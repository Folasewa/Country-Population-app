{
 "cells": [
  {
   "cell_type": "code",
   "execution_count": 1,
   "metadata": {},
   "outputs": [],
   "source": [
    "import pandas as pd\n",
    "import numpy as np\n",
    "import matplotlib.pyplot as plt"
   ]
  },
  {
   "cell_type": "code",
   "execution_count": 2,
   "metadata": {},
   "outputs": [],
   "source": [
    "raw_data = pd.read_csv('countries.csv')\n"
   ]
  },
  {
   "cell_type": "code",
   "execution_count": 3,
   "metadata": {},
   "outputs": [
    {
     "data": {
      "text/html": [
       "<div>\n",
       "<style scoped>\n",
       "    .dataframe tbody tr th:only-of-type {\n",
       "        vertical-align: middle;\n",
       "    }\n",
       "\n",
       "    .dataframe tbody tr th {\n",
       "        vertical-align: top;\n",
       "    }\n",
       "\n",
       "    .dataframe thead th {\n",
       "        text-align: right;\n",
       "    }\n",
       "</style>\n",
       "<table border=\"1\" class=\"dataframe\">\n",
       "  <thead>\n",
       "    <tr style=\"text-align: right;\">\n",
       "      <th></th>\n",
       "      <th>countries</th>\n",
       "      <th>year</th>\n",
       "      <th>population</th>\n",
       "    </tr>\n",
       "  </thead>\n",
       "  <tbody>\n",
       "    <tr>\n",
       "      <td>0</td>\n",
       "      <td>New Zealand</td>\n",
       "      <td>1952</td>\n",
       "      <td>1994794</td>\n",
       "    </tr>\n",
       "    <tr>\n",
       "      <td>1</td>\n",
       "      <td>New Zealand</td>\n",
       "      <td>1957</td>\n",
       "      <td>2229407</td>\n",
       "    </tr>\n",
       "    <tr>\n",
       "      <td>2</td>\n",
       "      <td>New Zealand</td>\n",
       "      <td>1962</td>\n",
       "      <td>2488550</td>\n",
       "    </tr>\n",
       "    <tr>\n",
       "      <td>3</td>\n",
       "      <td>New Zealand</td>\n",
       "      <td>1967</td>\n",
       "      <td>2728150</td>\n",
       "    </tr>\n",
       "    <tr>\n",
       "      <td>4</td>\n",
       "      <td>New Zealand</td>\n",
       "      <td>1972</td>\n",
       "      <td>2929100</td>\n",
       "    </tr>\n",
       "  </tbody>\n",
       "</table>\n",
       "</div>"
      ],
      "text/plain": [
       "     countries  year  population\n",
       "0  New Zealand  1952     1994794\n",
       "1  New Zealand  1957     2229407\n",
       "2  New Zealand  1962     2488550\n",
       "3  New Zealand  1967     2728150\n",
       "4  New Zealand  1972     2929100"
      ]
     },
     "execution_count": 3,
     "metadata": {},
     "output_type": "execute_result"
    }
   ],
   "source": [
    "raw_data.head()"
   ]
  },
  {
   "cell_type": "code",
   "execution_count": 4,
   "metadata": {},
   "outputs": [
    {
     "data": {
      "text/plain": [
       "countries     0\n",
       "year          0\n",
       "population    0\n",
       "dtype: int64"
      ]
     },
     "execution_count": 4,
     "metadata": {},
     "output_type": "execute_result"
    }
   ],
   "source": [
    "raw_data.isnull().sum()"
   ]
  },
  {
   "cell_type": "code",
   "execution_count": 5,
   "metadata": {},
   "outputs": [],
   "source": [
    "Niger = raw_data[raw_data.countries == 'Niger']\n",
    "New_Zea = raw_data[raw_data.countries == 'New Zealand']\n",
    "Nicar = raw_data[raw_data.countries == 'Nicaragua']\n",
    "Nigeria = raw_data[raw_data.countries == 'Nigeria']\n",
    "Norw = raw_data[raw_data.countries == 'Norway']\n",
    "\n",
    "Niger.to_csv('Niger.csv', index=False)\n",
    "New_Zea.to_csv('NewZealand.csv', index=False)\n",
    "Nicar.to_csv('Nicaragua.csv', index=False)\n",
    "Nigeria.to_csv('Nigeria.csv', index=False)\n",
    "Norw.to_csv('Norway.csv', index=False)"
   ]
  },
  {
   "cell_type": "code",
   "execution_count": 6,
   "metadata": {},
   "outputs": [],
   "source": [
    "#model building for each of the country\n",
    "#for Niger"
   ]
  },
  {
   "cell_type": "code",
   "execution_count": 7,
   "metadata": {},
   "outputs": [
    {
     "data": {
      "text/html": [
       "<div>\n",
       "<style scoped>\n",
       "    .dataframe tbody tr th:only-of-type {\n",
       "        vertical-align: middle;\n",
       "    }\n",
       "\n",
       "    .dataframe tbody tr th {\n",
       "        vertical-align: top;\n",
       "    }\n",
       "\n",
       "    .dataframe thead th {\n",
       "        text-align: right;\n",
       "    }\n",
       "</style>\n",
       "<table border=\"1\" class=\"dataframe\">\n",
       "  <thead>\n",
       "    <tr style=\"text-align: right;\">\n",
       "      <th></th>\n",
       "      <th>countries</th>\n",
       "      <th>year</th>\n",
       "      <th>population</th>\n",
       "    </tr>\n",
       "  </thead>\n",
       "  <tbody>\n",
       "    <tr>\n",
       "      <td>0</td>\n",
       "      <td>Niger</td>\n",
       "      <td>1952</td>\n",
       "      <td>3379468</td>\n",
       "    </tr>\n",
       "    <tr>\n",
       "      <td>1</td>\n",
       "      <td>Niger</td>\n",
       "      <td>1957</td>\n",
       "      <td>3692184</td>\n",
       "    </tr>\n",
       "    <tr>\n",
       "      <td>2</td>\n",
       "      <td>Niger</td>\n",
       "      <td>1962</td>\n",
       "      <td>4076008</td>\n",
       "    </tr>\n",
       "    <tr>\n",
       "      <td>3</td>\n",
       "      <td>Niger</td>\n",
       "      <td>1967</td>\n",
       "      <td>4534062</td>\n",
       "    </tr>\n",
       "    <tr>\n",
       "      <td>4</td>\n",
       "      <td>Niger</td>\n",
       "      <td>1972</td>\n",
       "      <td>5060262</td>\n",
       "    </tr>\n",
       "  </tbody>\n",
       "</table>\n",
       "</div>"
      ],
      "text/plain": [
       "  countries  year  population\n",
       "0     Niger  1952     3379468\n",
       "1     Niger  1957     3692184\n",
       "2     Niger  1962     4076008\n",
       "3     Niger  1967     4534062\n",
       "4     Niger  1972     5060262"
      ]
     },
     "execution_count": 7,
     "metadata": {},
     "output_type": "execute_result"
    }
   ],
   "source": [
    "niger_data=pd.read_csv('Niger.csv')\n",
    "niger_data.head()"
   ]
  },
  {
   "cell_type": "code",
   "execution_count": 8,
   "metadata": {},
   "outputs": [
    {
     "name": "stdout",
     "output_type": "stream",
     "text": [
      "12 12\n"
     ]
    }
   ],
   "source": [
    "from sklearn.model_selection import cross_validate\n",
    "from sklearn import preprocessing, tree\n",
    "\n",
    "X=niger_data.drop(['population', 'countries'], axis=1)\n",
    "y=niger_data['population']\n",
    "\n",
    "print(len(X), len(y))"
   ]
  },
  {
   "cell_type": "code",
   "execution_count": 12,
   "metadata": {},
   "outputs": [
    {
     "name": "stdout",
     "output_type": "stream",
     "text": [
      "0.9135398413478257\n"
     ]
    }
   ],
   "source": [
    "from sklearn.model_selection import train_test_split\n",
    "\n",
    "X_train, X_test, y_train, y_test =train_test_split(X, y, test_size=0.3, random_state=42)\n",
    "\n",
    "from sklearn import ensemble\n",
    "rlf = ensemble.RandomForestRegressor(n_estimators=50)\n",
    "rlf.fit(X_train, y_train)\n",
    "Accuracy = rlf.score(X_test, y_test)\n",
    "\n",
    "print(Accuracy)"
   ]
  },
  {
   "cell_type": "code",
   "execution_count": 18,
   "metadata": {},
   "outputs": [
    {
     "data": {
      "text/plain": [
       "array([10598338.2 ,  8595936.48,  3848307.64,  7259094.96])"
      ]
     },
     "execution_count": 18,
     "metadata": {},
     "output_type": "execute_result"
    }
   ],
   "source": [
    "#saving models\n",
    "import joblib\n",
    "\n",
    "#saving the model as a pickle file\n",
    "joblib.dump(rlf, 'Niger.pkl')\n",
    "\n",
    "#loading the model from the file\n",
    "rlf_from_joblib = joblib.load('Niger.pkl')\n",
    "\n",
    "#using the model to make predictions\n",
    "\n",
    "rlf_from_joblib.predict(X_test)\n",
    "\n",
    "\n",
    "\n"
   ]
  },
  {
   "cell_type": "code",
   "execution_count": 20,
   "metadata": {},
   "outputs": [
    {
     "data": {
      "text/html": [
       "<div>\n",
       "<style scoped>\n",
       "    .dataframe tbody tr th:only-of-type {\n",
       "        vertical-align: middle;\n",
       "    }\n",
       "\n",
       "    .dataframe tbody tr th {\n",
       "        vertical-align: top;\n",
       "    }\n",
       "\n",
       "    .dataframe thead th {\n",
       "        text-align: right;\n",
       "    }\n",
       "</style>\n",
       "<table border=\"1\" class=\"dataframe\">\n",
       "  <thead>\n",
       "    <tr style=\"text-align: right;\">\n",
       "      <th></th>\n",
       "      <th>countries</th>\n",
       "      <th>year</th>\n",
       "      <th>population</th>\n",
       "    </tr>\n",
       "  </thead>\n",
       "  <tbody>\n",
       "    <tr>\n",
       "      <td>0</td>\n",
       "      <td>New Zealand</td>\n",
       "      <td>1952</td>\n",
       "      <td>1994794</td>\n",
       "    </tr>\n",
       "    <tr>\n",
       "      <td>1</td>\n",
       "      <td>New Zealand</td>\n",
       "      <td>1957</td>\n",
       "      <td>2229407</td>\n",
       "    </tr>\n",
       "    <tr>\n",
       "      <td>2</td>\n",
       "      <td>New Zealand</td>\n",
       "      <td>1962</td>\n",
       "      <td>2488550</td>\n",
       "    </tr>\n",
       "    <tr>\n",
       "      <td>3</td>\n",
       "      <td>New Zealand</td>\n",
       "      <td>1967</td>\n",
       "      <td>2728150</td>\n",
       "    </tr>\n",
       "    <tr>\n",
       "      <td>4</td>\n",
       "      <td>New Zealand</td>\n",
       "      <td>1972</td>\n",
       "      <td>2929100</td>\n",
       "    </tr>\n",
       "  </tbody>\n",
       "</table>\n",
       "</div>"
      ],
      "text/plain": [
       "     countries  year  population\n",
       "0  New Zealand  1952     1994794\n",
       "1  New Zealand  1957     2229407\n",
       "2  New Zealand  1962     2488550\n",
       "3  New Zealand  1967     2728150\n",
       "4  New Zealand  1972     2929100"
      ]
     },
     "execution_count": 20,
     "metadata": {},
     "output_type": "execute_result"
    }
   ],
   "source": [
    "#model building for New Zealand\n",
    "New_Zea_data = pd.read_csv('NewZealand.csv')\n",
    "New_Zea_data.head()"
   ]
  },
  {
   "cell_type": "code",
   "execution_count": 21,
   "metadata": {},
   "outputs": [],
   "source": [
    "New_Zea_data.drop(['countries'], axis=1, inplace=True)"
   ]
  },
  {
   "cell_type": "code",
   "execution_count": 22,
   "metadata": {},
   "outputs": [
    {
     "name": "stdout",
     "output_type": "stream",
     "text": [
      "12 12\n"
     ]
    }
   ],
   "source": [
    "X=New_Zea_data.drop(['population'], axis=1)\n",
    "y=New_Zea_data['population']\n",
    "\n",
    "print(len(X), len(y))"
   ]
  },
  {
   "cell_type": "code",
   "execution_count": 24,
   "metadata": {},
   "outputs": [
    {
     "name": "stdout",
     "output_type": "stream",
     "text": [
      "0.922368606729376\n"
     ]
    }
   ],
   "source": [
    "X_train, X_test, y_train, y_test =train_test_split(X, y, test_size=0.3, random_state=42)\n",
    "Rfr = ensemble.RandomForestRegressor(n_estimators=50)\n",
    "Rfr.fit(X_train, y_train)\n",
    "accuracy = Rfr.score(X_test, y_test)\n",
    "\n",
    "print(accuracy)"
   ]
  },
  {
   "cell_type": "code",
   "execution_count": 25,
   "metadata": {},
   "outputs": [
    {
     "data": {
      "text/plain": [
       "array([3837854.34, 3486468.14, 2331500.76, 3301783.94])"
      ]
     },
     "execution_count": 25,
     "metadata": {},
     "output_type": "execute_result"
    }
   ],
   "source": [
    "#saving model as a pickle file\n",
    "joblib.dump(Rfr, 'New Zealand.pkl')\n",
    "\n",
    "#loading the model from the file\n",
    "rlf_from_joblib = joblib.load('New Zealand.pkl')\n",
    "\n",
    "#using the model to make predictions\n",
    "\n",
    "rlf_from_joblib.predict(X_test)\n",
    "\n"
   ]
  },
  {
   "cell_type": "code",
   "execution_count": 27,
   "metadata": {},
   "outputs": [
    {
     "data": {
      "text/html": [
       "<div>\n",
       "<style scoped>\n",
       "    .dataframe tbody tr th:only-of-type {\n",
       "        vertical-align: middle;\n",
       "    }\n",
       "\n",
       "    .dataframe tbody tr th {\n",
       "        vertical-align: top;\n",
       "    }\n",
       "\n",
       "    .dataframe thead th {\n",
       "        text-align: right;\n",
       "    }\n",
       "</style>\n",
       "<table border=\"1\" class=\"dataframe\">\n",
       "  <thead>\n",
       "    <tr style=\"text-align: right;\">\n",
       "      <th></th>\n",
       "      <th>countries</th>\n",
       "      <th>year</th>\n",
       "      <th>population</th>\n",
       "    </tr>\n",
       "  </thead>\n",
       "  <tbody>\n",
       "    <tr>\n",
       "      <td>0</td>\n",
       "      <td>Nicaragua</td>\n",
       "      <td>1952</td>\n",
       "      <td>1165790</td>\n",
       "    </tr>\n",
       "    <tr>\n",
       "      <td>1</td>\n",
       "      <td>Nicaragua</td>\n",
       "      <td>1957</td>\n",
       "      <td>1358828</td>\n",
       "    </tr>\n",
       "    <tr>\n",
       "      <td>2</td>\n",
       "      <td>Nicaragua</td>\n",
       "      <td>1962</td>\n",
       "      <td>1590597</td>\n",
       "    </tr>\n",
       "    <tr>\n",
       "      <td>3</td>\n",
       "      <td>Nicaragua</td>\n",
       "      <td>1967</td>\n",
       "      <td>1865490</td>\n",
       "    </tr>\n",
       "    <tr>\n",
       "      <td>4</td>\n",
       "      <td>Nicaragua</td>\n",
       "      <td>1972</td>\n",
       "      <td>2182908</td>\n",
       "    </tr>\n",
       "  </tbody>\n",
       "</table>\n",
       "</div>"
      ],
      "text/plain": [
       "   countries  year  population\n",
       "0  Nicaragua  1952     1165790\n",
       "1  Nicaragua  1957     1358828\n",
       "2  Nicaragua  1962     1590597\n",
       "3  Nicaragua  1967     1865490\n",
       "4  Nicaragua  1972     2182908"
      ]
     },
     "execution_count": 27,
     "metadata": {},
     "output_type": "execute_result"
    }
   ],
   "source": [
    "#model building for Nicaragua\n",
    "Nicar_data = pd.read_csv('Nicaragua.csv')\n",
    "Nicar_data.head()"
   ]
  },
  {
   "cell_type": "code",
   "execution_count": 28,
   "metadata": {},
   "outputs": [],
   "source": [
    "Nicar_data.drop(['countries'], axis=1, inplace=True)"
   ]
  },
  {
   "cell_type": "code",
   "execution_count": 29,
   "metadata": {},
   "outputs": [
    {
     "name": "stdout",
     "output_type": "stream",
     "text": [
      "12 12\n"
     ]
    }
   ],
   "source": [
    "X=Nicar_data.drop(['population'], axis=1)\n",
    "y=Nicar_data['population']\n",
    "print(len(X), len(y))"
   ]
  },
  {
   "cell_type": "code",
   "execution_count": 31,
   "metadata": {},
   "outputs": [
    {
     "name": "stdout",
     "output_type": "stream",
     "text": [
      "0.8154418204396185\n"
     ]
    }
   ],
   "source": [
    "X_train, X_test, y_train, y_test = train_test_split(X,y,test_size=0.3, random_state=42)\n",
    "RFG=ensemble.RandomForestRegressor(n_estimators=50)\n",
    "RFG.fit(X_train, y_train)\n",
    "AccuracY=RFG.score(X_test,y_test)\n",
    "print(AccuracY)"
   ]
  },
  {
   "cell_type": "code",
   "execution_count": 32,
   "metadata": {},
   "outputs": [
    {
     "data": {
      "text/plain": [
       "array([4790304.98, 3671423.54, 1486751.28, 3223081.26])"
      ]
     },
     "execution_count": 32,
     "metadata": {},
     "output_type": "execute_result"
    }
   ],
   "source": [
    "#saving model as a pickle file\n",
    "joblib.dump(RFG, 'Nicaragua.pkl')\n",
    "\n",
    "#loading the model from the file\n",
    "rlf_from_joblib = joblib.load('Nicaragua.pkl')\n",
    "\n",
    "#using the model to make predictions\n",
    "\n",
    "rlf_from_joblib.predict(X_test)\n",
    "\n"
   ]
  },
  {
   "cell_type": "code",
   "execution_count": 33,
   "metadata": {},
   "outputs": [
    {
     "data": {
      "text/html": [
       "<div>\n",
       "<style scoped>\n",
       "    .dataframe tbody tr th:only-of-type {\n",
       "        vertical-align: middle;\n",
       "    }\n",
       "\n",
       "    .dataframe tbody tr th {\n",
       "        vertical-align: top;\n",
       "    }\n",
       "\n",
       "    .dataframe thead th {\n",
       "        text-align: right;\n",
       "    }\n",
       "</style>\n",
       "<table border=\"1\" class=\"dataframe\">\n",
       "  <thead>\n",
       "    <tr style=\"text-align: right;\">\n",
       "      <th></th>\n",
       "      <th>countries</th>\n",
       "      <th>year</th>\n",
       "      <th>population</th>\n",
       "    </tr>\n",
       "  </thead>\n",
       "  <tbody>\n",
       "    <tr>\n",
       "      <td>0</td>\n",
       "      <td>Nigeria</td>\n",
       "      <td>1952</td>\n",
       "      <td>33119096</td>\n",
       "    </tr>\n",
       "    <tr>\n",
       "      <td>1</td>\n",
       "      <td>Nigeria</td>\n",
       "      <td>1957</td>\n",
       "      <td>37173340</td>\n",
       "    </tr>\n",
       "    <tr>\n",
       "      <td>2</td>\n",
       "      <td>Nigeria</td>\n",
       "      <td>1962</td>\n",
       "      <td>41871351</td>\n",
       "    </tr>\n",
       "    <tr>\n",
       "      <td>3</td>\n",
       "      <td>Nigeria</td>\n",
       "      <td>1967</td>\n",
       "      <td>47287752</td>\n",
       "    </tr>\n",
       "    <tr>\n",
       "      <td>4</td>\n",
       "      <td>Nigeria</td>\n",
       "      <td>1972</td>\n",
       "      <td>53740085</td>\n",
       "    </tr>\n",
       "  </tbody>\n",
       "</table>\n",
       "</div>"
      ],
      "text/plain": [
       "  countries  year  population\n",
       "0   Nigeria  1952    33119096\n",
       "1   Nigeria  1957    37173340\n",
       "2   Nigeria  1962    41871351\n",
       "3   Nigeria  1967    47287752\n",
       "4   Nigeria  1972    53740085"
      ]
     },
     "execution_count": 33,
     "metadata": {},
     "output_type": "execute_result"
    }
   ],
   "source": [
    "#model building for Nigeria\n",
    "Nigeria_data=pd.read_csv('Nigeria.csv')\n",
    "Nigeria_data.head()"
   ]
  },
  {
   "cell_type": "code",
   "execution_count": 35,
   "metadata": {},
   "outputs": [],
   "source": [
    "Nigeria_data.drop(['countries'], axis=1, inplace=True)\n"
   ]
  },
  {
   "cell_type": "code",
   "execution_count": 36,
   "metadata": {},
   "outputs": [
    {
     "name": "stdout",
     "output_type": "stream",
     "text": [
      "12 12\n"
     ]
    }
   ],
   "source": [
    "X=Nigeria_data.drop(['population'], axis=1)\n",
    "y=Nigeria_data['population']\n",
    "\n",
    "print(len(X), len(y))"
   ]
  },
  {
   "cell_type": "code",
   "execution_count": 37,
   "metadata": {},
   "outputs": [
    {
     "name": "stdout",
     "output_type": "stream",
     "text": [
      "0.9078257680878746\n"
     ]
    }
   ],
   "source": [
    "X_train, X_test, y_train, y_test = train_test_split(X,y,test_size=0.3, random_state=42)\n",
    "rfg=ensemble.RandomForestRegressor(n_estimators=50)\n",
    "rfg.fit(X_train, y_train)\n",
    "ACCuracy=rfg.score(X_test,y_test)\n",
    "print(ACCuracy)"
   ]
  },
  {
   "cell_type": "code",
   "execution_count": 38,
   "metadata": {},
   "outputs": [
    {
     "data": {
      "text/plain": [
       "array([1.17020102e+08, 9.45586519e+07, 3.96436387e+07, 7.85976024e+07])"
      ]
     },
     "execution_count": 38,
     "metadata": {},
     "output_type": "execute_result"
    }
   ],
   "source": [
    "#saving the model as a pickle file\n",
    "joblib.dump(rfg, 'Nigeria.pkl')\n",
    "#loading the model\n",
    "rfg_from_joblib=joblib.load('Nigeria.pkl')\n",
    "#making predictions\n",
    "rfg_from_joblib.predict(X_test)"
   ]
  },
  {
   "cell_type": "code",
   "execution_count": 39,
   "metadata": {},
   "outputs": [
    {
     "data": {
      "text/html": [
       "<div>\n",
       "<style scoped>\n",
       "    .dataframe tbody tr th:only-of-type {\n",
       "        vertical-align: middle;\n",
       "    }\n",
       "\n",
       "    .dataframe tbody tr th {\n",
       "        vertical-align: top;\n",
       "    }\n",
       "\n",
       "    .dataframe thead th {\n",
       "        text-align: right;\n",
       "    }\n",
       "</style>\n",
       "<table border=\"1\" class=\"dataframe\">\n",
       "  <thead>\n",
       "    <tr style=\"text-align: right;\">\n",
       "      <th></th>\n",
       "      <th>countries</th>\n",
       "      <th>year</th>\n",
       "      <th>population</th>\n",
       "    </tr>\n",
       "  </thead>\n",
       "  <tbody>\n",
       "    <tr>\n",
       "      <td>0</td>\n",
       "      <td>Norway</td>\n",
       "      <td>1952</td>\n",
       "      <td>3327728</td>\n",
       "    </tr>\n",
       "    <tr>\n",
       "      <td>1</td>\n",
       "      <td>Norway</td>\n",
       "      <td>1957</td>\n",
       "      <td>3491938</td>\n",
       "    </tr>\n",
       "    <tr>\n",
       "      <td>2</td>\n",
       "      <td>Norway</td>\n",
       "      <td>1962</td>\n",
       "      <td>3638919</td>\n",
       "    </tr>\n",
       "    <tr>\n",
       "      <td>3</td>\n",
       "      <td>Norway</td>\n",
       "      <td>1967</td>\n",
       "      <td>3786019</td>\n",
       "    </tr>\n",
       "    <tr>\n",
       "      <td>4</td>\n",
       "      <td>Norway</td>\n",
       "      <td>1972</td>\n",
       "      <td>3933004</td>\n",
       "    </tr>\n",
       "  </tbody>\n",
       "</table>\n",
       "</div>"
      ],
      "text/plain": [
       "  countries  year  population\n",
       "0    Norway  1952     3327728\n",
       "1    Norway  1957     3491938\n",
       "2    Norway  1962     3638919\n",
       "3    Norway  1967     3786019\n",
       "4    Norway  1972     3933004"
      ]
     },
     "execution_count": 39,
     "metadata": {},
     "output_type": "execute_result"
    }
   ],
   "source": [
    "#model building for Norway\n",
    "Norway_data=pd.read_csv('Norway.csv')\n",
    "Norway_data.head()"
   ]
  },
  {
   "cell_type": "code",
   "execution_count": 40,
   "metadata": {},
   "outputs": [],
   "source": [
    "Norway_data.drop(['countries'], axis=1, inplace=True)"
   ]
  },
  {
   "cell_type": "code",
   "execution_count": 41,
   "metadata": {},
   "outputs": [
    {
     "name": "stdout",
     "output_type": "stream",
     "text": [
      "12 12\n"
     ]
    }
   ],
   "source": [
    "X=Norway_data.drop('population', axis=1)\n",
    "y=Norway_data['population']\n",
    "print(len(X), len(y))"
   ]
  },
  {
   "cell_type": "code",
   "execution_count": 42,
   "metadata": {},
   "outputs": [
    {
     "name": "stdout",
     "output_type": "stream",
     "text": [
      "0.8901007785128338\n"
     ]
    }
   ],
   "source": [
    "X_train, X_test, y_train, y_test = train_test_split(X,y, test_size=0.3, random_state=42)\n",
    "RFg=ensemble.RandomForestRegressor(n_estimators=50)\n",
    "RFg.fit(X_train,y_train)\n",
    "ACCUracy=RFg.score(X_test,y_test)\n",
    "print(ACCUracy)"
   ]
  },
  {
   "cell_type": "code",
   "execution_count": 43,
   "metadata": {},
   "outputs": [
    {
     "data": {
      "text/plain": [
       "array([4460322.36, 4230597.28, 3550739.92, 4169020.6 ])"
      ]
     },
     "execution_count": 43,
     "metadata": {},
     "output_type": "execute_result"
    }
   ],
   "source": [
    "#saving the model as a pickle file\n",
    "joblib.dump(RFg, 'Norway.pkl')\n",
    "#loading the data\n",
    "RFg_from_joblib=joblib.load('Norway.pkl')\n",
    "#making predictions\n",
    "RFg_from_joblib.predict(X_test)"
   ]
  },
  {
   "cell_type": "code",
   "execution_count": null,
   "metadata": {},
   "outputs": [],
   "source": []
  }
 ],
 "metadata": {
  "kernelspec": {
   "display_name": "Python 3",
   "language": "python",
   "name": "python3"
  },
  "language_info": {
   "codemirror_mode": {
    "name": "ipython",
    "version": 3
   },
   "file_extension": ".py",
   "mimetype": "text/x-python",
   "name": "python",
   "nbconvert_exporter": "python",
   "pygments_lexer": "ipython3",
   "version": "3.7.4"
  }
 },
 "nbformat": 4,
 "nbformat_minor": 2
}
